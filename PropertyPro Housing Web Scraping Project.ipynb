{
 "cells": [
  {
   "cell_type": "markdown",
   "id": "ec13ce5a",
   "metadata": {},
   "source": [
    "# Web Scraping Housing Data "
   ]
  },
  {
   "cell_type": "markdown",
   "id": "b1f8e6db",
   "metadata": {},
   "source": [
    "## Import Libraries"
   ]
  },
  {
   "cell_type": "code",
   "execution_count": 1,
   "id": "bfa5c920",
   "metadata": {},
   "outputs": [
    {
     "name": "stdout",
     "output_type": "stream",
     "text": [
      "Defaulting to user installation because normal site-packages is not writeable\n",
      "Requirement already satisfied: BeautifulSoup4 in c:\\programdata\\anaconda3\\lib\\site-packages (4.11.1)\n",
      "Requirement already satisfied: soupsieve>1.2 in c:\\programdata\\anaconda3\\lib\\site-packages (from BeautifulSoup4) (2.3.2.post1)\n",
      "Note: you may need to restart the kernel to use updated packages.\n"
     ]
    }
   ],
   "source": [
    "pip install BeautifulSoup4"
   ]
  },
  {
   "cell_type": "code",
   "execution_count": 2,
   "id": "c3a873e8",
   "metadata": {},
   "outputs": [],
   "source": [
    "import requests\n",
    "from bs4 import BeautifulSoup\n",
    "import pandas as pd \n",
    "import numpy as np\n",
    "\n",
    "\n",
    "from requests.adapters import HTTPAdapter\n",
    "from requests.packages.urllib3.util.retry import Retry"
   ]
  },
  {
   "cell_type": "code",
   "execution_count": 3,
   "id": "5240bd50",
   "metadata": {},
   "outputs": [],
   "source": [
    "# This would make us scrape in sessions so that if we have network issues\n",
    "# we wont need to start scraping again we would just revert to the previous\n",
    "# session tracked\n",
    "session = requests.Session()\n",
    "retry = Retry(connect=3, backoff_factor=0.5)\n",
    "adapter = HTTPAdapter(max_retries=retry)\n",
    "session.mount('http://', adapter)\n",
    "session.mount('https://', adapter)"
   ]
  },
  {
   "cell_type": "markdown",
   "id": "27d6c501",
   "metadata": {},
   "source": [
    "## Extract Data on the first page"
   ]
  },
  {
   "cell_type": "code",
   "execution_count": 4,
   "id": "ec0ab879",
   "metadata": {},
   "outputs": [],
   "source": [
    "r = requests.get('https://www.propertypro.ng/property-for-rent/in/lagos')\n",
    "soup = BeautifulSoup(r.content, 'html.parser')"
   ]
  },
  {
   "cell_type": "code",
   "execution_count": 5,
   "id": "f2c48932",
   "metadata": {},
   "outputs": [],
   "source": [
    "page = soup.find_all('div', class_='single-room-sale listings-property')"
   ]
  },
  {
   "cell_type": "code",
   "execution_count": 6,
   "id": "30f423e6",
   "metadata": {},
   "outputs": [
    {
     "name": "stdout",
     "output_type": "stream",
     "text": [
      "Number of apartment listings on a page: 21\n"
     ]
    }
   ],
   "source": [
    "print(\"Number of apartment listings on a page:\", len(page))"
   ]
  },
  {
   "cell_type": "code",
   "execution_count": 7,
   "id": "8f823168",
   "metadata": {},
   "outputs": [],
   "source": [
    "page_list = []\n",
    "\n",
    "for list in page:\n",
    "    try:\n",
    "        property_name = list.find('h3', class_='listings-property-title2').text\n",
    "        address = list.find_all('h4')[1].text\n",
    "        price_info = list.find('h3',class_='listings-price')\n",
    "        price = price_info.find_all('span')[1].text.strip() \n",
    "        last_updated = list.find('h5').text\n",
    "        serviced_newly_built = list.find('div',class_='furnished-btn').text.strip().replace('\\n', ' ')\n",
    "        amenities = list.find('div',class_='fur-areea').text.strip().replace('\\n', ' ')\n",
    "        more_info = list.find('h4', class_='listings-property-title').text\n",
    "    \n",
    "    \n",
    "    except:\n",
    "        \"None\"\n",
    "    \n",
    "        \n",
    "    row = [property_name,address,price,serviced_newly_built,amenities,more_info,last_updated]\n",
    "    page_list.append(row)"
   ]
  },
  {
   "cell_type": "code",
   "execution_count": 8,
   "id": "acbc6f69",
   "metadata": {},
   "outputs": [
    {
     "data": {
      "text/plain": [
       "21"
      ]
     },
     "execution_count": 8,
     "metadata": {},
     "output_type": "execute_result"
    }
   ],
   "source": [
    "len(page_list)"
   ]
  },
  {
   "cell_type": "markdown",
   "id": "91ab062f",
   "metadata": {},
   "source": [
    "## Extract Data from other pages"
   ]
  },
  {
   "cell_type": "code",
   "execution_count": 9,
   "id": "5a9a477d",
   "metadata": {},
   "outputs": [],
   "source": [
    "# other_pages_list = []\n",
    "\n",
    "for page in range(1, 785):\n",
    "    link = session.get(f\"https://www.propertypro.ng/property-for-rent/in/lagos?page={page}\").text \n",
    "    soup = BeautifulSoup(link, \"html.parser\")\n",
    "    \n",
    "    for list in soup.find_all('div', class_='single-room-sale listings-property'):\n",
    "        try:\n",
    "            property_name = list.find('h3', class_='listings-property-title2').text\n",
    "            address = list.find_all('h4')[1].text\n",
    "            price_info = list.find('h3',class_='listings-price')\n",
    "            price = price_info.find_all('span')[1].text.strip() \n",
    "            last_updated = list.find('h5').text\n",
    "            serviced_newly_built = list.find('div',class_='furnished-btn').text.strip().replace('\\n', ' ')\n",
    "            amenities = list.find('div',class_='fur-areea').text.strip().replace('\\n', ' ')\n",
    "            more_info = list.find('h4', class_='listings-property-title').text\n",
    "\n",
    "\n",
    "        except:\n",
    "            \"None\"\n",
    "\n",
    "\n",
    "        row = [property_name,address,price,serviced_newly_built,amenities,more_info,last_updated]\n",
    "        page_list.append(row)"
   ]
  },
  {
   "cell_type": "code",
   "execution_count": 10,
   "id": "8ca5a910",
   "metadata": {},
   "outputs": [
    {
     "data": {
      "text/plain": [
       "14803"
      ]
     },
     "execution_count": 10,
     "metadata": {},
     "output_type": "execute_result"
    }
   ],
   "source": [
    "len(page_list)"
   ]
  },
  {
   "cell_type": "code",
   "execution_count": 11,
   "id": "32fac325",
   "metadata": {},
   "outputs": [],
   "source": [
    "pages_list_df = pd.DataFrame(page_list, columns=['Property Name', 'Address', 'Price', 'Serviced/Newly Built', 'Amenities', 'More Info', 'Last Updated'])"
   ]
  },
  {
   "cell_type": "code",
   "execution_count": 12,
   "id": "cbd2c4ec",
   "metadata": {},
   "outputs": [
    {
     "data": {
      "text/html": [
       "<div>\n",
       "<style scoped>\n",
       "    .dataframe tbody tr th:only-of-type {\n",
       "        vertical-align: middle;\n",
       "    }\n",
       "\n",
       "    .dataframe tbody tr th {\n",
       "        vertical-align: top;\n",
       "    }\n",
       "\n",
       "    .dataframe thead th {\n",
       "        text-align: right;\n",
       "    }\n",
       "</style>\n",
       "<table border=\"1\" class=\"dataframe\">\n",
       "  <thead>\n",
       "    <tr style=\"text-align: right;\">\n",
       "      <th></th>\n",
       "      <th>Property Name</th>\n",
       "      <th>Address</th>\n",
       "      <th>Price</th>\n",
       "      <th>Serviced/Newly Built</th>\n",
       "      <th>Amenities</th>\n",
       "      <th>More Info</th>\n",
       "      <th>Last Updated</th>\n",
       "    </tr>\n",
       "  </thead>\n",
       "  <tbody>\n",
       "    <tr>\n",
       "      <th>0</th>\n",
       "      <td>Spacious 3 Bedroom Flat</td>\n",
       "      <td>Lagos Business School Olokonla Ajah Lagos</td>\n",
       "      <td>2,000,000/year</td>\n",
       "      <td></td>\n",
       "      <td>3 beds 3 baths 4 Toilets</td>\n",
       "      <td>3 BEDROOM HOUSE FOR RENT</td>\n",
       "      <td>Updated 11 Jun 2023, Added 03 Apr 2023</td>\n",
       "    </tr>\n",
       "    <tr>\n",
       "      <th>1</th>\n",
       "      <td>4 Bedroom Terrace Duplex</td>\n",
       "      <td>Orchid Lekki Lagos</td>\n",
       "      <td>4,000,000/year</td>\n",
       "      <td></td>\n",
       "      <td>0 beds 0 baths 0 Toilets</td>\n",
       "      <td>FLAT / APARTMENT FOR RENT</td>\n",
       "      <td>Updated 11 Jun 2023, Added 25 Apr 2023</td>\n",
       "    </tr>\n",
       "    <tr>\n",
       "      <th>2</th>\n",
       "      <td>Office Space At The Finery Ikoyi</td>\n",
       "      <td>Ikoyi Lagos</td>\n",
       "      <td>6,400,000/year</td>\n",
       "      <td></td>\n",
       "      <td>beds  baths  Toilets</td>\n",
       "      <td>COMMERCIAL PROPERTY FOR RENT</td>\n",
       "      <td>Updated 11 Jun 2023, Added 12 Jan 2023</td>\n",
       "    </tr>\n",
       "    <tr>\n",
       "      <th>3</th>\n",
       "      <td>4 Bedroom Penthouse + 2 Bq</td>\n",
       "      <td>Adeola Odeku Victoria Island Lagos</td>\n",
       "      <td>25,000,000/year</td>\n",
       "      <td>Serviced Newly Built</td>\n",
       "      <td>4 beds 4 baths 5 Toilets</td>\n",
       "      <td>4 BEDROOM HOUSE FOR RENT</td>\n",
       "      <td>Updated 11 Jun 2023, Added 18 May 2023</td>\n",
       "    </tr>\n",
       "    <tr>\n",
       "      <th>4</th>\n",
       "      <td>Office Space At Nestoil Towers</td>\n",
       "      <td>Akin Adesola Victoria Island Lagos</td>\n",
       "      <td>800/sqm</td>\n",
       "      <td></td>\n",
       "      <td>beds  baths  Toilets</td>\n",
       "      <td>COMMERCIAL PROPERTY FOR RENT</td>\n",
       "      <td>Updated 11 Jun 2023, Added 09 May 2023</td>\n",
       "    </tr>\n",
       "    <tr>\n",
       "      <th>...</th>\n",
       "      <td>...</td>\n",
       "      <td>...</td>\n",
       "      <td>...</td>\n",
       "      <td>...</td>\n",
       "      <td>...</td>\n",
       "      <td>...</td>\n",
       "      <td>...</td>\n",
       "    </tr>\n",
       "    <tr>\n",
       "      <th>14798</th>\n",
       "      <td>4 Bedroom Terrace Duplex</td>\n",
       "      <td>Agungi Lekki Lagos</td>\n",
       "      <td>4,200,000/year</td>\n",
       "      <td></td>\n",
       "      <td>4 beds 4 baths 5 Toilets</td>\n",
       "      <td>4 BEDROOM HOUSE FOR RENT</td>\n",
       "      <td>Updated 13 Feb 2023, Added 08 Feb 2023</td>\n",
       "    </tr>\n",
       "    <tr>\n",
       "      <th>14799</th>\n",
       "      <td>4 Bedroom Terrace Duplex</td>\n",
       "      <td>Agungi Lekki Lagos</td>\n",
       "      <td>4,200,000/year</td>\n",
       "      <td></td>\n",
       "      <td>4 beds 4 baths 5 Toilets</td>\n",
       "      <td>4 BEDROOM HOUSE FOR RENT</td>\n",
       "      <td>Updated 13 Feb 2023, Added 08 Feb 2023</td>\n",
       "    </tr>\n",
       "    <tr>\n",
       "      <th>14800</th>\n",
       "      <td>4 Bedroom Detached Duplex</td>\n",
       "      <td>Ikeja Lagos</td>\n",
       "      <td>9,000,000/year</td>\n",
       "      <td></td>\n",
       "      <td>4 beds 4 baths 5 Toilets</td>\n",
       "      <td>4 BEDROOM HOUSE FOR RENT</td>\n",
       "      <td>Updated 13 Feb 2023, Added 07 Feb 2023</td>\n",
       "    </tr>\n",
       "    <tr>\n",
       "      <th>14801</th>\n",
       "      <td>3 Bedroom Apartment</td>\n",
       "      <td>Majek Sangotedo Ajah Lagos</td>\n",
       "      <td>1,500,000/year</td>\n",
       "      <td>Newly Built</td>\n",
       "      <td>3 beds 3 baths 4 Toilets</td>\n",
       "      <td>3 BEDROOM FLAT / APARTMENT FOR RENT</td>\n",
       "      <td>Added 10 Jun 2023</td>\n",
       "    </tr>\n",
       "    <tr>\n",
       "      <th>14802</th>\n",
       "      <td>Luxury 4 Bedroom Semi Detached Duplex</td>\n",
       "      <td>Ilaje Ajah Lagos</td>\n",
       "      <td>2,600,000/year</td>\n",
       "      <td></td>\n",
       "      <td>4 beds 4 baths 5 Toilets</td>\n",
       "      <td>4 BEDROOM HOUSE FOR RENT</td>\n",
       "      <td>Updated 18 Nov 2022, Added 27 Oct 2022</td>\n",
       "    </tr>\n",
       "  </tbody>\n",
       "</table>\n",
       "<p>14803 rows × 7 columns</p>\n",
       "</div>"
      ],
      "text/plain": [
       "                               Property Name  \\\n",
       "0                    Spacious 3 Bedroom Flat   \n",
       "1                   4 Bedroom Terrace Duplex   \n",
       "2           Office Space At The Finery Ikoyi   \n",
       "3                 4 Bedroom Penthouse + 2 Bq   \n",
       "4             Office Space At Nestoil Towers   \n",
       "...                                      ...   \n",
       "14798               4 Bedroom Terrace Duplex   \n",
       "14799               4 Bedroom Terrace Duplex   \n",
       "14800              4 Bedroom Detached Duplex   \n",
       "14801                    3 Bedroom Apartment   \n",
       "14802  Luxury 4 Bedroom Semi Detached Duplex   \n",
       "\n",
       "                                         Address            Price  \\\n",
       "0      Lagos Business School Olokonla Ajah Lagos   2,000,000/year   \n",
       "1                             Orchid Lekki Lagos   4,000,000/year   \n",
       "2                                    Ikoyi Lagos   6,400,000/year   \n",
       "3             Adeola Odeku Victoria Island Lagos  25,000,000/year   \n",
       "4             Akin Adesola Victoria Island Lagos          800/sqm   \n",
       "...                                          ...              ...   \n",
       "14798                         Agungi Lekki Lagos   4,200,000/year   \n",
       "14799                         Agungi Lekki Lagos   4,200,000/year   \n",
       "14800                                Ikeja Lagos   9,000,000/year   \n",
       "14801                 Majek Sangotedo Ajah Lagos   1,500,000/year   \n",
       "14802                           Ilaje Ajah Lagos   2,600,000/year   \n",
       "\n",
       "       Serviced/Newly Built                 Amenities  \\\n",
       "0                            3 beds 3 baths 4 Toilets   \n",
       "1                            0 beds 0 baths 0 Toilets   \n",
       "2                                beds  baths  Toilets   \n",
       "3      Serviced Newly Built  4 beds 4 baths 5 Toilets   \n",
       "4                                beds  baths  Toilets   \n",
       "...                     ...                       ...   \n",
       "14798                        4 beds 4 baths 5 Toilets   \n",
       "14799                        4 beds 4 baths 5 Toilets   \n",
       "14800                        4 beds 4 baths 5 Toilets   \n",
       "14801           Newly Built  3 beds 3 baths 4 Toilets   \n",
       "14802                        4 beds 4 baths 5 Toilets   \n",
       "\n",
       "                                 More Info  \\\n",
       "0                 3 BEDROOM HOUSE FOR RENT   \n",
       "1                FLAT / APARTMENT FOR RENT   \n",
       "2             COMMERCIAL PROPERTY FOR RENT   \n",
       "3                 4 BEDROOM HOUSE FOR RENT   \n",
       "4             COMMERCIAL PROPERTY FOR RENT   \n",
       "...                                    ...   \n",
       "14798             4 BEDROOM HOUSE FOR RENT   \n",
       "14799             4 BEDROOM HOUSE FOR RENT   \n",
       "14800             4 BEDROOM HOUSE FOR RENT   \n",
       "14801  3 BEDROOM FLAT / APARTMENT FOR RENT   \n",
       "14802             4 BEDROOM HOUSE FOR RENT   \n",
       "\n",
       "                                    Last Updated  \n",
       "0        Updated 11 Jun 2023, Added 03 Apr 2023   \n",
       "1        Updated 11 Jun 2023, Added 25 Apr 2023   \n",
       "2        Updated 11 Jun 2023, Added 12 Jan 2023   \n",
       "3        Updated 11 Jun 2023, Added 18 May 2023   \n",
       "4        Updated 11 Jun 2023, Added 09 May 2023   \n",
       "...                                          ...  \n",
       "14798    Updated 13 Feb 2023, Added 08 Feb 2023   \n",
       "14799    Updated 13 Feb 2023, Added 08 Feb 2023   \n",
       "14800    Updated 13 Feb 2023, Added 07 Feb 2023   \n",
       "14801                         Added 10 Jun 2023   \n",
       "14802    Updated 18 Nov 2022, Added 27 Oct 2022   \n",
       "\n",
       "[14803 rows x 7 columns]"
      ]
     },
     "execution_count": 12,
     "metadata": {},
     "output_type": "execute_result"
    }
   ],
   "source": [
    "pages_list_df"
   ]
  },
  {
   "cell_type": "code",
   "execution_count": 13,
   "id": "0ad1187c",
   "metadata": {},
   "outputs": [],
   "source": [
    "df = pd.read_csv(\"rent_property.csv\")"
   ]
  },
  {
   "cell_type": "markdown",
   "id": "0ecc0be3",
   "metadata": {},
   "source": [
    "## Read Data"
   ]
  },
  {
   "cell_type": "code",
   "execution_count": 16,
   "id": "1f26156c",
   "metadata": {},
   "outputs": [
    {
     "data": {
      "text/html": [
       "<div>\n",
       "<style scoped>\n",
       "    .dataframe tbody tr th:only-of-type {\n",
       "        vertical-align: middle;\n",
       "    }\n",
       "\n",
       "    .dataframe tbody tr th {\n",
       "        vertical-align: top;\n",
       "    }\n",
       "\n",
       "    .dataframe thead th {\n",
       "        text-align: right;\n",
       "    }\n",
       "</style>\n",
       "<table border=\"1\" class=\"dataframe\">\n",
       "  <thead>\n",
       "    <tr style=\"text-align: right;\">\n",
       "      <th></th>\n",
       "      <th>Unnamed: 0</th>\n",
       "      <th>Property Name</th>\n",
       "      <th>Address</th>\n",
       "      <th>Price</th>\n",
       "      <th>Serviced/Newly Built</th>\n",
       "      <th>Amenities</th>\n",
       "      <th>More Info</th>\n",
       "      <th>Last Updated</th>\n",
       "    </tr>\n",
       "  </thead>\n",
       "  <tbody>\n",
       "    <tr>\n",
       "      <th>2855</th>\n",
       "      <td>2855</td>\n",
       "      <td>4 Bedroom Maisonette</td>\n",
       "      <td>Parkview Estate Ikoyi Lagos</td>\n",
       "      <td>14,000,000/year</td>\n",
       "      <td>NaN</td>\n",
       "      <td>4 beds 5 baths 5 Toilets</td>\n",
       "      <td>4 BEDROOM HOUSE FOR RENT</td>\n",
       "      <td>Updated 20 May 2023, Added 26 Mar 2023</td>\n",
       "    </tr>\n",
       "    <tr>\n",
       "      <th>25011</th>\n",
       "      <td>25011</td>\n",
       "      <td>3 Bedroom Terrace Duplex</td>\n",
       "      <td>Lekki Lagos</td>\n",
       "      <td>6,000,000/year</td>\n",
       "      <td>Serviced</td>\n",
       "      <td>3 beds 3 baths 4 Toilets</td>\n",
       "      <td>3 BEDROOM HOUSE FOR RENT</td>\n",
       "      <td>Updated 19 May 2023, Added 15 May 2023</td>\n",
       "    </tr>\n",
       "    <tr>\n",
       "      <th>5394</th>\n",
       "      <td>5394</td>\n",
       "      <td>4 Bedroom Semi Detached Duplex</td>\n",
       "      <td>Picadilly Suites Hotel Idado Estate Agungi Lek...</td>\n",
       "      <td>6,000,000/year</td>\n",
       "      <td>Newly Built</td>\n",
       "      <td>4 beds 4 baths 5 Toilets</td>\n",
       "      <td>4 BEDROOM COMMERCIAL PROPERTY FOR RENT</td>\n",
       "      <td>Updated 13 May 2023, Added 20 Feb 2023</td>\n",
       "    </tr>\n",
       "    <tr>\n",
       "      <th>8169</th>\n",
       "      <td>8169</td>\n",
       "      <td>Mini Flat</td>\n",
       "      <td>Omole Phase 1 Ojodu Lagos</td>\n",
       "      <td>1,000,000/year</td>\n",
       "      <td>NaN</td>\n",
       "      <td>1 beds 0 baths 0 Toilets</td>\n",
       "      <td>1 BEDROOM FLAT / APARTMENT FOR RENT</td>\n",
       "      <td>Updated 23 May 2023, Added 02 May 2023</td>\n",
       "    </tr>\n",
       "    <tr>\n",
       "      <th>5697</th>\n",
       "      <td>5697</td>\n",
       "      <td>Newly Built Mini Flat</td>\n",
       "      <td>Ikorodu Road(ilupeju) Ilupeju Lagos</td>\n",
       "      <td>600,000/year</td>\n",
       "      <td>Furnished Newly Built</td>\n",
       "      <td>2 beds 2 baths 2 Toilets</td>\n",
       "      <td>2 BEDROOM FLAT / APARTMENT FOR RENT</td>\n",
       "      <td>Updated 13 May 2023, Added 07 May 2023</td>\n",
       "    </tr>\n",
       "  </tbody>\n",
       "</table>\n",
       "</div>"
      ],
      "text/plain": [
       "       Unnamed: 0                   Property Name  \\\n",
       "2855         2855            4 Bedroom Maisonette   \n",
       "25011       25011        3 Bedroom Terrace Duplex   \n",
       "5394         5394  4 Bedroom Semi Detached Duplex   \n",
       "8169         8169                       Mini Flat   \n",
       "5697         5697           Newly Built Mini Flat   \n",
       "\n",
       "                                                 Address            Price  \\\n",
       "2855                         Parkview Estate Ikoyi Lagos  14,000,000/year   \n",
       "25011                                        Lekki Lagos   6,000,000/year   \n",
       "5394   Picadilly Suites Hotel Idado Estate Agungi Lek...   6,000,000/year   \n",
       "8169                           Omole Phase 1 Ojodu Lagos   1,000,000/year   \n",
       "5697                 Ikorodu Road(ilupeju) Ilupeju Lagos     600,000/year   \n",
       "\n",
       "        Serviced/Newly Built                 Amenities  \\\n",
       "2855                     NaN  4 beds 5 baths 5 Toilets   \n",
       "25011               Serviced  3 beds 3 baths 4 Toilets   \n",
       "5394             Newly Built  4 beds 4 baths 5 Toilets   \n",
       "8169                     NaN  1 beds 0 baths 0 Toilets   \n",
       "5697   Furnished Newly Built  2 beds 2 baths 2 Toilets   \n",
       "\n",
       "                                    More Info  \\\n",
       "2855                 4 BEDROOM HOUSE FOR RENT   \n",
       "25011                3 BEDROOM HOUSE FOR RENT   \n",
       "5394   4 BEDROOM COMMERCIAL PROPERTY FOR RENT   \n",
       "8169      1 BEDROOM FLAT / APARTMENT FOR RENT   \n",
       "5697      2 BEDROOM FLAT / APARTMENT FOR RENT   \n",
       "\n",
       "                                    Last Updated  \n",
       "2855     Updated 20 May 2023, Added 26 Mar 2023   \n",
       "25011    Updated 19 May 2023, Added 15 May 2023   \n",
       "5394     Updated 13 May 2023, Added 20 Feb 2023   \n",
       "8169     Updated 23 May 2023, Added 02 May 2023   \n",
       "5697     Updated 13 May 2023, Added 07 May 2023   "
      ]
     },
     "execution_count": 16,
     "metadata": {},
     "output_type": "execute_result"
    }
   ],
   "source": [
    "df.sample(5)"
   ]
  },
  {
   "cell_type": "code",
   "execution_count": null,
   "id": "259a085e",
   "metadata": {},
   "outputs": [],
   "source": []
  }
 ],
 "metadata": {
  "kernelspec": {
   "display_name": "Python 3 (ipykernel)",
   "language": "python",
   "name": "python3"
  },
  "language_info": {
   "codemirror_mode": {
    "name": "ipython",
    "version": 3
   },
   "file_extension": ".py",
   "mimetype": "text/x-python",
   "name": "python",
   "nbconvert_exporter": "python",
   "pygments_lexer": "ipython3",
   "version": "3.10.9"
  }
 },
 "nbformat": 4,
 "nbformat_minor": 5
}
